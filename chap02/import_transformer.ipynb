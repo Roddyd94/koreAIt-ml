{
 "cells": [
  {
   "cell_type": "code",
   "execution_count": 2,
   "id": "ebcb1e1f",
   "metadata": {},
   "outputs": [],
   "source": [
    "import joblib\n",
    "import os\n",
    "import numpy as np\n",
    "import pandas as pd\n",
    "from housing.housingprep import CombinedAttributesAdder\n",
    "from sklearn.base import BaseEstimator, TransformerMixin\n",
    "\n",
    "폴더_경로 = \"./housing\"\n",
    "\n",
    "데이터셋_폴더_경로 = os.path.join(폴더_경로, \"datasets\")\n",
    "데이터셋_파일_경로 = os.path.join(데이터셋_폴더_경로, \"housing.csv\")\n",
    "housing = pd.read_csv(데이터셋_파일_경로)\n",
    "\n",
    "모델_폴더_경로 = os.path.join(폴더_경로, \"models\")\n",
    "모델_경로 = os.path.join(모델_폴더_경로, \"transformer.pkl\")\n",
    "load_pipeline = joblib.load(모델_경로)"
   ]
  },
  {
   "cell_type": "code",
   "execution_count": 3,
   "id": "5c4e5d27",
   "metadata": {},
   "outputs": [
    {
     "data": {
      "text/plain": [
       "array([[-1.32783522,  1.05254828,  0.98214266, ...,  0.        ,\n",
       "         1.        ,  0.        ],\n",
       "       [-1.32284391,  1.04318455, -0.60701891, ...,  0.        ,\n",
       "         1.        ,  0.        ],\n",
       "       [-1.33282653,  1.03850269,  1.85618152, ...,  0.        ,\n",
       "         1.        ,  0.        ],\n",
       "       ...,\n",
       "       [-0.8237132 ,  1.77823747, -0.92485123, ...,  0.        ,\n",
       "         0.        ,  0.        ],\n",
       "       [-0.87362627,  1.77823747, -0.84539315, ...,  0.        ,\n",
       "         0.        ,  0.        ],\n",
       "       [-0.83369581,  1.75014627, -1.00430931, ...,  0.        ,\n",
       "         0.        ,  0.        ]])"
      ]
     },
     "execution_count": 3,
     "metadata": {},
     "output_type": "execute_result"
    }
   ],
   "source": [
    "load_pipeline.fit_transform(housing)"
   ]
  },
  {
   "cell_type": "code",
   "execution_count": null,
   "id": "b9fbbff5",
   "metadata": {},
   "outputs": [],
   "source": [
    "import sys\n",
    "sys.path"
   ]
  },
  {
   "cell_type": "code",
   "execution_count": null,
   "id": "301d895e",
   "metadata": {},
   "outputs": [],
   "source": []
  }
 ],
 "metadata": {
  "kernelspec": {
   "display_name": "Python 3",
   "language": "python",
   "name": "python3"
  },
  "language_info": {
   "codemirror_mode": {
    "name": "ipython",
    "version": 3
   },
   "file_extension": ".py",
   "mimetype": "text/x-python",
   "name": "python",
   "nbconvert_exporter": "python",
   "pygments_lexer": "ipython3",
   "version": "3.7.9"
  }
 },
 "nbformat": 4,
 "nbformat_minor": 5
}
