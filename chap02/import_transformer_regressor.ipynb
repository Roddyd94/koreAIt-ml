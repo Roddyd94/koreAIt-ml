{
 "cells": [
  {
   "cell_type": "code",
   "execution_count": 1,
   "id": "b9fbbff5",
   "metadata": {},
   "outputs": [
    {
     "data": {
      "text/plain": [
       "['F:\\\\work\\\\python\\\\ml\\\\chap02',\n",
       " 'E:\\\\Program Files\\\\Python37\\\\python37.zip',\n",
       " 'E:\\\\Program Files\\\\Python37\\\\DLLs',\n",
       " 'E:\\\\Program Files\\\\Python37\\\\lib',\n",
       " 'E:\\\\Program Files\\\\Python37',\n",
       " '',\n",
       " 'E:\\\\Program Files\\\\Python37\\\\lib\\\\site-packages',\n",
       " 'E:\\\\Program Files\\\\Python37\\\\lib\\\\site-packages\\\\win32',\n",
       " 'E:\\\\Program Files\\\\Python37\\\\lib\\\\site-packages\\\\win32\\\\lib',\n",
       " 'E:\\\\Program Files\\\\Python37\\\\lib\\\\site-packages\\\\Pythonwin',\n",
       " 'E:\\\\Program Files\\\\Python37\\\\lib\\\\site-packages\\\\IPython\\\\extensions',\n",
       " 'C:\\\\Users\\\\pky94\\\\.ipython']"
      ]
     },
     "execution_count": 1,
     "metadata": {},
     "output_type": "execute_result"
    }
   ],
   "source": [
    "import sys\n",
    "sys.path"
   ]
  },
  {
   "cell_type": "code",
   "execution_count": 2,
   "id": "ebcb1e1f",
   "metadata": {},
   "outputs": [],
   "source": [
    "import joblib\n",
    "import os\n",
    "import numpy as np\n",
    "import pandas as pd\n",
    "from housing.housingprep import CombinedAttributesAdder, housing_stratified_shuffle_split\n",
    "\n",
    "폴더_경로 = \"./housing\"\n",
    "\n",
    "데이터셋_폴더_경로 = os.path.join(폴더_경로, \"datasets\")\n",
    "데이터셋_파일_경로 = os.path.join(데이터셋_폴더_경로, \"housing.csv\")\n",
    "housing = pd.read_csv(데이터셋_파일_경로)"
   ]
  },
  {
   "cell_type": "code",
   "execution_count": 3,
   "id": "dc801d16",
   "metadata": {},
   "outputs": [],
   "source": [
    "housing_train_X, housing_train_y, housing_test_X, housing_test_y = housing_stratified_shuffle_split(housing)"
   ]
  },
  {
   "cell_type": "code",
   "execution_count": 4,
   "id": "0d8a0b0d",
   "metadata": {},
   "outputs": [],
   "source": [
    "모델_폴더_경로 = os.path.join(폴더_경로, \"models\")\n",
    "변환기_경로 = os.path.join(모델_폴더_경로, \"transformer.pkl\")\n",
    "load_pipeline = joblib.load(변환기_경로)"
   ]
  },
  {
   "cell_type": "code",
   "execution_count": 5,
   "id": "5c4e5d27",
   "metadata": {},
   "outputs": [],
   "source": [
    "housing_prepared = load_pipeline.fit_transform(housing_train_X)"
   ]
  },
  {
   "cell_type": "code",
   "execution_count": 6,
   "id": "301d895e",
   "metadata": {},
   "outputs": [],
   "source": [
    "모델_경로 = os.path.join(모델_폴더_경로, \"regressor.pkl\")\n",
    "load_model = joblib.load(모델_경로)"
   ]
  },
  {
   "cell_type": "code",
   "execution_count": 7,
   "id": "899719d9",
   "metadata": {},
   "outputs": [
    {
     "data": {
      "text/plain": [
       "19128.562647984956"
      ]
     },
     "execution_count": 7,
     "metadata": {},
     "output_type": "execute_result"
    }
   ],
   "source": [
    "from sklearn.metrics import mean_squared_error\n",
    "\n",
    "housing_predictions = load_model.predict(housing_prepared)\n",
    "load_rmse = mean_squared_error(housing_train_y, housing_predictions, squared=False)\n",
    "load_rmse"
   ]
  },
  {
   "cell_type": "code",
   "execution_count": 8,
   "id": "9a5c15b8",
   "metadata": {},
   "outputs": [
    {
     "data": {
      "text/plain": [
       "49413.27948346896"
      ]
     },
     "execution_count": 8,
     "metadata": {},
     "output_type": "execute_result"
    }
   ],
   "source": [
    "from sklearn.model_selection import cross_val_score\n",
    "\n",
    "load_rmse_scores = -cross_val_score(load_model, housing_prepared, housing_train_y,\n",
    "                                    scoring=\"neg_root_mean_squared_error\", cv=10)\n",
    "load_rmse_scores.mean()"
   ]
  },
  {
   "cell_type": "code",
   "execution_count": 9,
   "id": "69608f09",
   "metadata": {},
   "outputs": [],
   "source": [
    "X_test_prepared = load_pipeline.transform(housing_test_X)\n",
    "# 최종 예측\n",
    "final_predictions = load_model.predict(X_test_prepared)\n",
    "\n",
    "# 최종 예측값 평가\n",
    "final_rmse = mean_squared_error(housing_test_y, final_predictions, squared=False)"
   ]
  },
  {
   "cell_type": "code",
   "execution_count": 10,
   "id": "38b2b469",
   "metadata": {},
   "outputs": [
    {
     "data": {
      "text/plain": [
       "47730.22690385927"
      ]
     },
     "execution_count": 10,
     "metadata": {},
     "output_type": "execute_result"
    }
   ],
   "source": [
    "final_rmse"
   ]
  },
  {
   "cell_type": "code",
   "execution_count": 11,
   "id": "2b49ef45",
   "metadata": {},
   "outputs": [],
   "source": [
    "전체_파이프라인_경로 = os.path.join(모델_폴더_경로, \"full_pipeline.pkl\")\n",
    "full_pipeline = joblib.load(전체_파이프라인_경로)"
   ]
  },
  {
   "cell_type": "code",
   "execution_count": 12,
   "id": "e14b184d",
   "metadata": {},
   "outputs": [
    {
     "data": {
      "text/plain": [
       "Pipeline(steps=[('preparation',\n",
       "                 ColumnTransformer(transformers=[('num',\n",
       "                                                  Pipeline(steps=[('imputer',\n",
       "                                                                   SimpleImputer(strategy='median')),\n",
       "                                                                  ('attribs_adder',\n",
       "                                                                   CombinedAttributesAdder()),\n",
       "                                                                  ('std_scaler',\n",
       "                                                                   StandardScaler())]),\n",
       "                                                  ['longitude', 'latitude',\n",
       "                                                   'housing_median_age',\n",
       "                                                   'total_rooms',\n",
       "                                                   'total_bedrooms',\n",
       "                                                   'population', 'households',\n",
       "                                                   'median_income']),\n",
       "                                                 ('cat', OneHotEncoder(),\n",
       "                                                  ['ocean_proximity'])])),\n",
       "                ('forest_reg',\n",
       "                 RandomForestRegressor(max_features=8, n_estimators=30,\n",
       "                                       random_state=42))])"
      ]
     },
     "execution_count": 12,
     "metadata": {},
     "output_type": "execute_result"
    }
   ],
   "source": [
    "full_pipeline.fit(housing_train_X, housing_train_y)"
   ]
  },
  {
   "cell_type": "code",
   "execution_count": 13,
   "id": "880bb741",
   "metadata": {},
   "outputs": [
    {
     "name": "stdout",
     "output_type": "stream",
     "text": [
      "예측값:  495467.50, 실제값:  500001.00\n",
      "예측값:  262676.70, 실제값:  240300.00\n",
      "예측값:  235380.00, 실제값:  218200.00\n",
      "예측값:  211883.33, 실제값:  182100.00\n",
      "예측값:  135516.67, 실제값:  121300.00\n"
     ]
    }
   ],
   "source": [
    "for e in zip(full_pipeline.predict(housing_test_X[:5]), housing_test_y[:5]):\n",
    "    print(f'예측값: {e[0]: .2f}, 실제값: {e[1]: .2f}')"
   ]
  },
  {
   "cell_type": "code",
   "execution_count": 14,
   "id": "a649ae1c",
   "metadata": {},
   "outputs": [],
   "source": []
  },
  {
   "cell_type": "code",
   "execution_count": null,
   "id": "034ab964",
   "metadata": {},
   "outputs": [],
   "source": []
  },
  {
   "cell_type": "code",
   "execution_count": null,
   "id": "21b1db01",
   "metadata": {},
   "outputs": [],
   "source": []
  },
  {
   "cell_type": "code",
   "execution_count": null,
   "id": "ebce1d2d",
   "metadata": {},
   "outputs": [],
   "source": []
  }
 ],
 "metadata": {
  "kernelspec": {
   "display_name": "Python 3",
   "language": "python",
   "name": "python3"
  },
  "language_info": {
   "codemirror_mode": {
    "name": "ipython",
    "version": 3
   },
   "file_extension": ".py",
   "mimetype": "text/x-python",
   "name": "python",
   "nbconvert_exporter": "python",
   "pygments_lexer": "ipython3",
   "version": "3.7.9"
  }
 },
 "nbformat": 4,
 "nbformat_minor": 5
}
