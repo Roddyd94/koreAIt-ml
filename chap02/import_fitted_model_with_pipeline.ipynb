{
 "cells": [
  {
   "cell_type": "code",
   "execution_count": 6,
   "id": "4626a8d4",
   "metadata": {},
   "outputs": [],
   "source": [
    "import joblib\n",
    "import os\n",
    "import numpy as np\n",
    "import pandas as pd\n",
    "from housing.housingprep import CombinedAttributesAdder, housing_stratified_shuffle_split\n",
    "\n",
    "폴더_경로 = \"./housing\"\n",
    "모델_폴더_경로 = os.path.join(폴더_경로, \"models\")\n",
    "데이터셋_폴더_경로 = os.path.join(폴더_경로, \"datasets\")\n",
    "데이터셋_파일_경로 = os.path.join(데이터셋_폴더_경로, \"housing.csv\")\n",
    "housing = pd.read_csv(데이터셋_파일_경로)"
   ]
  },
  {
   "cell_type": "code",
   "execution_count": 7,
   "id": "ddaf6e69",
   "metadata": {},
   "outputs": [],
   "source": [
    "housing_train_X, housing_train_y, housing_test_X, housing_test_y \\\n",
    "= housing_stratified_shuffle_split(housing)"
   ]
  },
  {
   "cell_type": "code",
   "execution_count": 8,
   "id": "bbc09603",
   "metadata": {},
   "outputs": [],
   "source": [
    "학습된_전체_파이프라인_경로 = os.path.join(모델_폴더_경로, \"full_pipeline_fitted.pkl\")\n",
    "fitted_pipeline = joblib.load(학습된_전체_파이프라인_경로)"
   ]
  },
  {
   "cell_type": "code",
   "execution_count": 12,
   "id": "0438f450",
   "metadata": {},
   "outputs": [
    {
     "name": "stdout",
     "output_type": "stream",
     "text": [
      "예측값:  495467.50, 실제값:  500001.00\n",
      "예측값:  262676.70, 실제값:  240300.00\n",
      "예측값:  235380.00, 실제값:  218200.00\n",
      "예측값:  211883.33, 실제값:  182100.00\n",
      "예측값:  135516.67, 실제값:  121300.00\n",
      "예측값:  147776.67, 실제값:  120600.00\n",
      "예측값:   63540.00, 실제값:   72300.00\n",
      "예측값:  439026.90, 실제값:  500001.00\n",
      "예측값:  106323.33, 실제값:   98900.00\n",
      "예측값:  100293.33, 실제값:   82600.00\n"
     ]
    }
   ],
   "source": [
    "for e in zip(fitted_pipeline.predict(housing_test_X[:10]), housing_test_y[:10]):\n",
    "    print(f'예측값: {e[0]: 10.2f}, 실제값: {e[1]: 10.2f}')"
   ]
  },
  {
   "cell_type": "code",
   "execution_count": null,
   "id": "96f43854",
   "metadata": {},
   "outputs": [],
   "source": []
  }
 ],
 "metadata": {
  "kernelspec": {
   "display_name": "Python 3",
   "language": "python",
   "name": "python3"
  },
  "language_info": {
   "codemirror_mode": {
    "name": "ipython",
    "version": 3
   },
   "file_extension": ".py",
   "mimetype": "text/x-python",
   "name": "python",
   "nbconvert_exporter": "python",
   "pygments_lexer": "ipython3",
   "version": "3.7.9"
  }
 },
 "nbformat": 4,
 "nbformat_minor": 5
}
